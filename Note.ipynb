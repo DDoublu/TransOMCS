{
 "cells": [
  {
   "cell_type": "markdown",
   "metadata": {},
   "source": [
    "# NOTE for TransOMCS\n",
    "\n",
    "Author: Doublu\n",
    "\n",
    "Date: 2020年10月29日20:22:50"
   ]
  },
  {
   "cell_type": "markdown",
   "metadata": {},
   "source": [
    "\n",
    "\n",
    "如果想要直接使用TransOMCS，作者提供了资源下载[TransOMCS](https://hkustconnect-my.sharepoint.com/:u:/g/personal/hzhangal_connect_ust_hk/EVeNd_qvealEiTi7gs0Xu6sBbPIZI5ncD7Z1MBMdOz5CXw?e=VWCAbg)\n",
    "\n",
    "查看前几行"
   ]
  },
  {
   "cell_type": "code",
   "execution_count": 9,
   "metadata": {},
   "outputs": [
    {
     "name": "stdout",
     "output_type": "stream",
     "text": [
      "student\tAtLocation\tschool\t1.0\n",
      "building\tAtLocation\tcity\t1.0\n",
      "sugar\tAtLocation\tcoffee\t1.0\n",
      "government\tAtLocation\tcity\t1.0\n",
      "school\tAtLocation\tcity\t1.0\n",
      "sign\tAtLocation\tbook\t1.0\n",
      "title\tAtLocation\tbook\t1.0\n",
      "curator\tAtLocation\tmuseum\t1.0\n",
      "leader\tAtLocation\tgroup\t1.0\n",
      "population\tAtLocation\tcity\t1.0\n"
     ]
    }
   ],
   "source": [
    "with open('./Data/TransOMCS_full.txt/TransOMCS_full.txt', 'r') as f:\n",
    "    for i in range(10):\n",
    "        print(f.readline(), end=\"\")"
   ]
  },
  {
   "cell_type": "code",
   "execution_count": 1,
   "metadata": {},
   "outputs": [],
   "source": [
    "import pandas as pd\n",
    "result = pd.read_csv('./Data/TransOMCS_full.txt/TransOMCS_full.txt', header=None, dtype=str, encoding='utf-8', sep='\\t')\n",
    "result.columns = ['head', 'relation', 'tail', 'score']"
   ]
  },
  {
   "cell_type": "code",
   "execution_count": 2,
   "metadata": {},
   "outputs": [
    {
     "data": {
      "text/html": [
       "<div>\n",
       "<style scoped>\n",
       "    .dataframe tbody tr th:only-of-type {\n",
       "        vertical-align: middle;\n",
       "    }\n",
       "\n",
       "    .dataframe tbody tr th {\n",
       "        vertical-align: top;\n",
       "    }\n",
       "\n",
       "    .dataframe thead th {\n",
       "        text-align: right;\n",
       "    }\n",
       "</style>\n",
       "<table border=\"1\" class=\"dataframe\">\n",
       "  <thead>\n",
       "    <tr style=\"text-align: right;\">\n",
       "      <th></th>\n",
       "      <th>head</th>\n",
       "      <th>relation</th>\n",
       "      <th>tail</th>\n",
       "      <th>score</th>\n",
       "    </tr>\n",
       "  </thead>\n",
       "  <tbody>\n",
       "    <tr>\n",
       "      <th>0</th>\n",
       "      <td>student</td>\n",
       "      <td>AtLocation</td>\n",
       "      <td>school</td>\n",
       "      <td>1.0</td>\n",
       "    </tr>\n",
       "    <tr>\n",
       "      <th>1</th>\n",
       "      <td>building</td>\n",
       "      <td>AtLocation</td>\n",
       "      <td>city</td>\n",
       "      <td>1.0</td>\n",
       "    </tr>\n",
       "    <tr>\n",
       "      <th>2</th>\n",
       "      <td>sugar</td>\n",
       "      <td>AtLocation</td>\n",
       "      <td>coffee</td>\n",
       "      <td>1.0</td>\n",
       "    </tr>\n",
       "    <tr>\n",
       "      <th>3</th>\n",
       "      <td>government</td>\n",
       "      <td>AtLocation</td>\n",
       "      <td>city</td>\n",
       "      <td>1.0</td>\n",
       "    </tr>\n",
       "    <tr>\n",
       "      <th>4</th>\n",
       "      <td>school</td>\n",
       "      <td>AtLocation</td>\n",
       "      <td>city</td>\n",
       "      <td>1.0</td>\n",
       "    </tr>\n",
       "    <tr>\n",
       "      <th>...</th>\n",
       "      <td>...</td>\n",
       "      <td>...</td>\n",
       "      <td>...</td>\n",
       "      <td>...</td>\n",
       "    </tr>\n",
       "    <tr>\n",
       "      <th>18481602</th>\n",
       "      <td>nein</td>\n",
       "      <td>ReceivesAction</td>\n",
       "      <td>nein</td>\n",
       "      <td>0.00</td>\n",
       "    </tr>\n",
       "    <tr>\n",
       "      <th>18481603</th>\n",
       "      <td>concurrence</td>\n",
       "      <td>ReceivesAction</td>\n",
       "      <td>concur</td>\n",
       "      <td>0.00</td>\n",
       "    </tr>\n",
       "    <tr>\n",
       "      <th>18481604</th>\n",
       "      <td>slither</td>\n",
       "      <td>ReceivesAction</td>\n",
       "      <td>slither</td>\n",
       "      <td>0.00</td>\n",
       "    </tr>\n",
       "    <tr>\n",
       "      <th>18481605</th>\n",
       "      <td>establishment</td>\n",
       "      <td>ReceivesAction</td>\n",
       "      <td>ban</td>\n",
       "      <td>0.00</td>\n",
       "    </tr>\n",
       "    <tr>\n",
       "      <th>18481606</th>\n",
       "      <td>bleeps</td>\n",
       "      <td>UsedFor</td>\n",
       "      <td>take</td>\n",
       "      <td>0.00</td>\n",
       "    </tr>\n",
       "  </tbody>\n",
       "</table>\n",
       "<p>18481607 rows × 4 columns</p>\n",
       "</div>"
      ],
      "text/plain": [
       "                   head        relation     tail score\n",
       "0               student      AtLocation   school   1.0\n",
       "1              building      AtLocation     city   1.0\n",
       "2                 sugar      AtLocation   coffee   1.0\n",
       "3            government      AtLocation     city   1.0\n",
       "4                school      AtLocation     city   1.0\n",
       "...                 ...             ...      ...   ...\n",
       "18481602           nein  ReceivesAction     nein  0.00\n",
       "18481603    concurrence  ReceivesAction   concur  0.00\n",
       "18481604        slither  ReceivesAction  slither  0.00\n",
       "18481605  establishment  ReceivesAction      ban  0.00\n",
       "18481606         bleeps         UsedFor     take  0.00\n",
       "\n",
       "[18481607 rows x 4 columns]"
      ]
     },
     "execution_count": 2,
     "metadata": {},
     "output_type": "execute_result"
    }
   ],
   "source": [
    "result"
   ]
  },
  {
   "cell_type": "code",
   "execution_count": 3,
   "metadata": {},
   "outputs": [
    {
     "data": {
      "text/plain": [
       "(18481607, 4)"
      ]
     },
     "execution_count": 3,
     "metadata": {},
     "output_type": "execute_result"
    }
   ],
   "source": [
    "result.shape"
   ]
  },
  {
   "cell_type": "code",
   "execution_count": 4,
   "metadata": {},
   "outputs": [
    {
     "data": {
      "text/plain": [
       "array(['AtLocation', 'CapableOf', 'Causes', 'CausesDesire', 'CreatedBy',\n",
       "       'DefinedAs', 'Desires', 'HasA', 'HasPrerequisite', 'HasProperty',\n",
       "       'HasSubevent', 'HasFirstSubevent', 'HasLastSubevent', 'InstanceOf',\n",
       "       'MadeOf', 'MotivatedByGoal', 'PartOf', 'ReceivesAction', 'UsedFor',\n",
       "       'LocatedNear'], dtype=object)"
      ]
     },
     "execution_count": 4,
     "metadata": {},
     "output_type": "execute_result"
    }
   ],
   "source": [
    "result['relation'].unique()"
   ]
  },
  {
   "cell_type": "code",
   "execution_count": 5,
   "metadata": {},
   "outputs": [],
   "source": [
    "relaList = result['relation'].values.tolist()"
   ]
  },
  {
   "cell_type": "code",
   "execution_count": 6,
   "metadata": {},
   "outputs": [
    {
     "data": {
      "text/plain": [
       "{'AtLocation': 1969298,\n",
       " 'CapableOf': 6145829,\n",
       " 'Causes': 50439,\n",
       " 'CausesDesire': 249755,\n",
       " 'CreatedBy': 52957,\n",
       " 'DefinedAs': 36,\n",
       " 'Desires': 10668,\n",
       " 'HasA': 1562961,\n",
       " 'HasFirstSubevent': 2962,\n",
       " 'HasLastSubevent': 14048,\n",
       " 'HasPrerequisite': 43131,\n",
       " 'HasProperty': 2127824,\n",
       " 'HasSubevent': 18904,\n",
       " 'InstanceOf': 777688,\n",
       " 'LocatedNear': 19,\n",
       " 'MadeOf': 114111,\n",
       " 'MotivatedByGoal': 15322,\n",
       " 'PartOf': 357486,\n",
       " 'ReceivesAction': 1492915,\n",
       " 'UsedFor': 3475254}"
      ]
     },
     "execution_count": 6,
     "metadata": {},
     "output_type": "execute_result"
    }
   ],
   "source": [
    "import numpy as np\n",
    "dict(zip(*np.unique(relaList, return_counts=True)))"
   ]
  },
  {
   "cell_type": "code",
   "execution_count": 7,
   "metadata": {},
   "outputs": [],
   "source": [
    "dic = {'AtLocation': 1969298,\n",
    " 'CapableOf': 6145829,\n",
    " 'Causes': 50439,\n",
    " 'CausesDesire': 249755,\n",
    " 'CreatedBy': 52957,\n",
    " 'DefinedAs': 36,\n",
    " 'Desires': 10668,\n",
    " 'HasA': 1562961,\n",
    " 'HasFirstSubevent': 2962,\n",
    " 'HasLastSubevent': 14048,\n",
    " 'HasPrerequisite': 43131,\n",
    " 'HasProperty': 2127824,\n",
    " 'HasSubevent': 18904,\n",
    " 'InstanceOf': 777688,\n",
    " 'LocatedNear': 19,\n",
    " 'MadeOf': 114111,\n",
    " 'MotivatedByGoal': 15322,\n",
    " 'PartOf': 357486,\n",
    " 'ReceivesAction': 1492915,\n",
    " 'UsedFor': 3475254}"
   ]
  }
 ],
 "metadata": {
  "kernelspec": {
   "display_name": "sep",
   "language": "python",
   "name": "sep"
  },
  "language_info": {
   "codemirror_mode": {
    "name": "ipython",
    "version": 3
   },
   "file_extension": ".py",
   "mimetype": "text/x-python",
   "name": "python",
   "nbconvert_exporter": "python",
   "pygments_lexer": "ipython3",
   "version": "3.6.10"
  },
  "pycharm": {
   "stem_cell": {
    "cell_type": "raw",
    "metadata": {
     "collapsed": false
    },
    "source": []
   }
  }
 },
 "nbformat": 4,
 "nbformat_minor": 1
}
