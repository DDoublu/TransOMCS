{
 "cells": [
  {
   "cell_type": "markdown",
   "metadata": {},
   "source": [
    "# NOTE for TransOMCS\n",
    "\n",
    "Author: Doublu\n",
    "\n",
    "Date: 2020年10月29日20:22:50"
   ]
  },
  {
   "cell_type": "markdown",
   "metadata": {},
   "source": [
    "如果想要直接使用TransOMCS，作者提供了资源下载[TransOMCS](https://hkustconnect-my.sharepoint.com/:u:/g/personal/hzhangal_connect_ust_hk/EVeNd_qvealEiTi7gs0Xu6sBbPIZI5ncD7Z1MBMdOz5CXw?e=VWCAbg)\n",
    "\n",
    "## 查看前10行"
   ]
  },
  {
   "cell_type": "code",
   "execution_count": 1,
   "metadata": {},
   "outputs": [
    {
     "name": "stdout",
     "output_type": "stream",
     "text": [
      "student\tAtLocation\tschool\t1.0\n",
      "building\tAtLocation\tcity\t1.0\n",
      "sugar\tAtLocation\tcoffee\t1.0\n",
      "government\tAtLocation\tcity\t1.0\n",
      "school\tAtLocation\tcity\t1.0\n",
      "sign\tAtLocation\tbook\t1.0\n",
      "title\tAtLocation\tbook\t1.0\n",
      "curator\tAtLocation\tmuseum\t1.0\n",
      "leader\tAtLocation\tgroup\t1.0\n",
      "population\tAtLocation\tcity\t1.0\n"
     ]
    }
   ],
   "source": [
    "with open('./Data/TransOMCS_full.txt/TransOMCS_full.txt', 'r') as f:\n",
    "    for i in range(10):\n",
    "        print(f.readline(), end=\"\")"
   ]
  },
  {
   "cell_type": "markdown",
   "metadata": {},
   "source": [
    "文本格式四元组`(h,r,t,s)`，按照`s`的值(得分)降序排列"
   ]
  },
  {
   "cell_type": "markdown",
   "metadata": {},
   "source": [
    "## TransOMCS数据统计"
   ]
  },
  {
   "cell_type": "code",
   "execution_count": 2,
   "metadata": {},
   "outputs": [],
   "source": [
    "import pandas as pd\n",
    "result = pd.read_csv('./Data/TransOMCS_full.txt/TransOMCS_full.txt', header=None, dtype=str, encoding='utf-8', sep='\\t')\n",
    "result.columns = ['head', 'relation', 'tail', 'score']"
   ]
  },
  {
   "cell_type": "code",
   "execution_count": 3,
   "metadata": {},
   "outputs": [
    {
     "data": {
      "text/html": [
       "<div>\n",
       "<style scoped>\n",
       "    .dataframe tbody tr th:only-of-type {\n",
       "        vertical-align: middle;\n",
       "    }\n",
       "\n",
       "    .dataframe tbody tr th {\n",
       "        vertical-align: top;\n",
       "    }\n",
       "\n",
       "    .dataframe thead th {\n",
       "        text-align: right;\n",
       "    }\n",
       "</style>\n",
       "<table border=\"1\" class=\"dataframe\">\n",
       "  <thead>\n",
       "    <tr style=\"text-align: right;\">\n",
       "      <th></th>\n",
       "      <th>head</th>\n",
       "      <th>relation</th>\n",
       "      <th>tail</th>\n",
       "      <th>score</th>\n",
       "    </tr>\n",
       "  </thead>\n",
       "  <tbody>\n",
       "    <tr>\n",
       "      <th>0</th>\n",
       "      <td>student</td>\n",
       "      <td>AtLocation</td>\n",
       "      <td>school</td>\n",
       "      <td>1.0</td>\n",
       "    </tr>\n",
       "    <tr>\n",
       "      <th>1</th>\n",
       "      <td>building</td>\n",
       "      <td>AtLocation</td>\n",
       "      <td>city</td>\n",
       "      <td>1.0</td>\n",
       "    </tr>\n",
       "    <tr>\n",
       "      <th>2</th>\n",
       "      <td>sugar</td>\n",
       "      <td>AtLocation</td>\n",
       "      <td>coffee</td>\n",
       "      <td>1.0</td>\n",
       "    </tr>\n",
       "    <tr>\n",
       "      <th>3</th>\n",
       "      <td>government</td>\n",
       "      <td>AtLocation</td>\n",
       "      <td>city</td>\n",
       "      <td>1.0</td>\n",
       "    </tr>\n",
       "    <tr>\n",
       "      <th>4</th>\n",
       "      <td>school</td>\n",
       "      <td>AtLocation</td>\n",
       "      <td>city</td>\n",
       "      <td>1.0</td>\n",
       "    </tr>\n",
       "    <tr>\n",
       "      <th>...</th>\n",
       "      <td>...</td>\n",
       "      <td>...</td>\n",
       "      <td>...</td>\n",
       "      <td>...</td>\n",
       "    </tr>\n",
       "    <tr>\n",
       "      <th>18481602</th>\n",
       "      <td>nein</td>\n",
       "      <td>ReceivesAction</td>\n",
       "      <td>nein</td>\n",
       "      <td>0.00</td>\n",
       "    </tr>\n",
       "    <tr>\n",
       "      <th>18481603</th>\n",
       "      <td>concurrence</td>\n",
       "      <td>ReceivesAction</td>\n",
       "      <td>concur</td>\n",
       "      <td>0.00</td>\n",
       "    </tr>\n",
       "    <tr>\n",
       "      <th>18481604</th>\n",
       "      <td>slither</td>\n",
       "      <td>ReceivesAction</td>\n",
       "      <td>slither</td>\n",
       "      <td>0.00</td>\n",
       "    </tr>\n",
       "    <tr>\n",
       "      <th>18481605</th>\n",
       "      <td>establishment</td>\n",
       "      <td>ReceivesAction</td>\n",
       "      <td>ban</td>\n",
       "      <td>0.00</td>\n",
       "    </tr>\n",
       "    <tr>\n",
       "      <th>18481606</th>\n",
       "      <td>bleeps</td>\n",
       "      <td>UsedFor</td>\n",
       "      <td>take</td>\n",
       "      <td>0.00</td>\n",
       "    </tr>\n",
       "  </tbody>\n",
       "</table>\n",
       "<p>18481607 rows × 4 columns</p>\n",
       "</div>"
      ],
      "text/plain": [
       "                   head        relation     tail score\n",
       "0               student      AtLocation   school   1.0\n",
       "1              building      AtLocation     city   1.0\n",
       "2                 sugar      AtLocation   coffee   1.0\n",
       "3            government      AtLocation     city   1.0\n",
       "4                school      AtLocation     city   1.0\n",
       "...                 ...             ...      ...   ...\n",
       "18481602           nein  ReceivesAction     nein  0.00\n",
       "18481603    concurrence  ReceivesAction   concur  0.00\n",
       "18481604        slither  ReceivesAction  slither  0.00\n",
       "18481605  establishment  ReceivesAction      ban  0.00\n",
       "18481606         bleeps         UsedFor     take  0.00\n",
       "\n",
       "[18481607 rows x 4 columns]"
      ]
     },
     "execution_count": 3,
     "metadata": {},
     "output_type": "execute_result"
    }
   ],
   "source": [
    "result"
   ]
  },
  {
   "cell_type": "code",
   "execution_count": 4,
   "metadata": {},
   "outputs": [
    {
     "data": {
      "text/plain": [
       "(18481607, 4)"
      ]
     },
     "execution_count": 4,
     "metadata": {},
     "output_type": "execute_result"
    }
   ],
   "source": [
    "result.shape"
   ]
  },
  {
   "cell_type": "code",
   "execution_count": 5,
   "metadata": {},
   "outputs": [
    {
     "data": {
      "text/plain": [
       "array(['AtLocation', 'CapableOf', 'Causes', 'CausesDesire', 'CreatedBy',\n",
       "       'DefinedAs', 'Desires', 'HasA', 'HasPrerequisite', 'HasProperty',\n",
       "       'HasSubevent', 'HasFirstSubevent', 'HasLastSubevent', 'InstanceOf',\n",
       "       'MadeOf', 'MotivatedByGoal', 'PartOf', 'ReceivesAction', 'UsedFor',\n",
       "       'LocatedNear'], dtype=object)"
      ]
     },
     "execution_count": 5,
     "metadata": {},
     "output_type": "execute_result"
    }
   ],
   "source": [
    "result['relation'].unique()"
   ]
  },
  {
   "cell_type": "code",
   "execution_count": 13,
   "metadata": {},
   "outputs": [
    {
     "data": {
      "text/plain": [
       "{'AtLocation': 1969298,\n",
       " 'CapableOf': 6145829,\n",
       " 'Causes': 50439,\n",
       " 'CausesDesire': 249755,\n",
       " 'CreatedBy': 52957,\n",
       " 'DefinedAs': 36,\n",
       " 'Desires': 10668,\n",
       " 'HasA': 1562961,\n",
       " 'HasFirstSubevent': 2962,\n",
       " 'HasLastSubevent': 14048,\n",
       " 'HasPrerequisite': 43131,\n",
       " 'HasProperty': 2127824,\n",
       " 'HasSubevent': 18904,\n",
       " 'InstanceOf': 777688,\n",
       " 'LocatedNear': 19,\n",
       " 'MadeOf': 114111,\n",
       " 'MotivatedByGoal': 15322,\n",
       " 'PartOf': 357486,\n",
       " 'ReceivesAction': 1492915,\n",
       " 'UsedFor': 3475254}"
      ]
     },
     "execution_count": 13,
     "metadata": {},
     "output_type": "execute_result"
    }
   ],
   "source": [
    "relationList = result['relation'].values.tolist()\n",
    "import numpy as np\n",
    "relationDict = dict(zip(*np.unique(relationList, return_counts=True)))\n",
    "relationDict"
   ]
  },
  {
   "cell_type": "markdown",
   "metadata": {},
   "source": [
    "有20种关系，比代码`Train_and_Pridiction.py`中变量`all_relations`多一个关系`LocatedNear`"
   ]
  },
  {
   "cell_type": "code",
   "execution_count": 16,
   "metadata": {},
   "outputs": [
    {
     "data": {
      "image/png": "[encoded data removed]",
      "text/plain": [
       "<Figure size 432x288 with 1 Axes>"
      ]
     },
     "metadata": {
      "needs_background": "light"
     },
     "output_type": "display_data"
    }
   ],
   "source": [
    "import matplotlib.pyplot as plt\n",
    "def draw_from_dict(dicdata,RANGE, heng=0):\n",
    "    #dicdata：字典的数据。\n",
    "    #RANGE：截取显示的字典的长度。\n",
    "    #heng=0，代表条状图的柱子是竖直向上的。heng=1，代表柱子是横向的。考虑到文字是从左到右的，让柱子横向排列更容易观察坐标轴。\n",
    "    by_value = sorted(dicdata.items(),key = lambda item:item[1],reverse=True)\n",
    "    x = []\n",
    "    y = []\n",
    "    for d in by_value:\n",
    "        x.append(d[0])\n",
    "        y.append(d[1])\n",
    "    if heng == 0:\n",
    "        plt.bar(x[0:RANGE], y[0:RANGE])\n",
    "        plt.show()\n",
    "        return \n",
    "    elif heng == 1:\n",
    "        plt.barh(x[0:RANGE], y[0:RANGE])\n",
    "        plt.show()\n",
    "        return \n",
    "    else:\n",
    "        return \"heng的值仅为0或1！\"\n",
    "draw_from_dict(relationDict,len(relationDict), 1)"
   ]
  },
  {
   "cell_type": "markdown",
   "metadata": {},
   "source": [
    "可见，大多数的tuple集中在`CapableOf, UsedFor, HasProperty, AtLocation, HasA...`等前10个关系上"
   ]
  },
  {
   "cell_type": "markdown",
   "metadata": {},
   "source": [
    "| Relation  Name   | Number of triplets | Reasonable Ratio | Example                                | 百分比 | 累积百分比 |\n",
    "| ---------------- | ------------------ | ---------------- | -------------------------------------- | ------ | ---------- |\n",
    "| CapableOf        | 6,145,829          | 58.40%           | (government, CapableOf, protect)       | 33%    | 33%        |\n",
    "| UsedFor          | 3,475,254          | 50.80%           | (kitchen, UsedFor, eat in)             | 19%    | 52%        |\n",
    "| HasProperty      | 2,127,824          | 59.10%           | (account, HasProperty,  established)   | 12%    | 64%        |\n",
    "| AtLocation       | 1,969,298          | 51.30%           | (dryer, AtLocation, dishwasher)        | 11%    | 74%        |\n",
    "| HasA             | 1,562,961          | 68.90%           | (forest, HasA, pool)                   | 8%     | 83%        |\n",
    "| ReceivesAction   | 1,492,915          | 53.70%           | (news, ReceivesAction,  misattribute)  | 8%     | 91%        |\n",
    "| InstanceOf       | 777,688            | 52.20%           | (atlanta, InstanceOf, city)            | 4%     | 95%        |\n",
    "| PartOf           | 357,486            | 62.80%           | (player, PartOf, team)                 | 2%     | 97%        |\n",
    "| CausesDesire     | 249,755            | 52.00%           | (music, CausesDesire, listen)          | 1%     | 98%        |\n",
    "| MadeOf           | 114,111            | 55.30%           | (world, MadeOf, country)               | 1%     | 99%        |\n",
    "| CreatedBy        | 52,957             | 64.60%           | (film, CreatedBy, director)            | 0%     | 99%        |\n",
    "| Causes           | 50,439             | 53.40%           | (misinterpret, Causes,  apologize)     | 0%     | 99%        |\n",
    "| HasPrerequisite  | 43,141             | 62.70%           | (doubt, HasPrerequisite, bring  proof) | 0%     | 100%       |\n",
    "| HasSubevent      | 18,904             | 56.10%           | (be sure, HasSubevent, ask)            | 0%     | 100%       |\n",
    "| MotivatedByGoal  | 15,322             | 55.80%           | (come, MotivatedByGoal, fun)           | 0%     | 100%       |\n",
    "| HasLastSubevent  | 14,048             | 58.90%           | (hungry, HasLastSubevent, eat)         | 0%     | 100%       |\n",
    "| Desires          | 10,668             | 56.40%           | (dog, Desires, play)                   | 0%     | 100%       |\n",
    "| HasFirstSubevent | 2,962              | 58.40%           | (talk to, HasFirstSubevent,  call)     | 0%     | 100%       |\n",
    "| DefinedAs        | 36                 | 37.50%           | (door, DefinedAs, entrance)            | 0%     | 100%       |\n",
    "| LocatedNear      | 19                 | 85.70%           | (shoe, LocatedNear, foot)              | 0%     | 100%       |\n",
    "| 合计             | 18,481,617         |                  |                                        | 100%   |            |"
   ]
  },
  {
   "cell_type": "code",
   "execution_count": 1,
   "metadata": {},
   "outputs": [],
   "source": [
    "import json\n",
    "with open('./Data/ranking_dataset.json/ranking_dataset.json', 'r') as f:\n",
    "    data = json.load(f)"
   ]
  },
  {
   "cell_type": "code",
   "execution_count": 4,
   "metadata": {},
   "outputs": [],
   "source": [
    "count = 0\n",
    "for key in data:\n",
    "    if count < 1:\n",
    "        data = data[key]\n",
    "    count += 1"
   ]
  }
 ],
 "metadata": {
  "kernelspec": {
   "display_name": "sep",
   "language": "python",
   "name": "sep"
  },
  "language_info": {
   "codemirror_mode": {
    "name": "ipython",
    "version": 3
   },
   "file_extension": ".py",
   "mimetype": "text/x-python",
   "name": "python",
   "nbconvert_exporter": "python",
   "pygments_lexer": "ipython3",
   "version": "3.6.10"
  },
  "pycharm": {
   "stem_cell": {
    "cell_type": "raw",
    "metadata": {
     "collapsed": false
    },
    "source": []
   }
  }
 },
 "nbformat": 4,
 "nbformat_minor": 1
}
